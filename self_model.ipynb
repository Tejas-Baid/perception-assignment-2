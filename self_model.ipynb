{
 "cells": [
  {
   "cell_type": "code",
   "execution_count": 6,
   "metadata": {},
   "outputs": [],
   "source": [
    "import numpy as np\n",
    "import matplotlib.pyplot as plt\n",
    "import pandas as pd\n",
    "from send_to_racing import bbox,depth_values;"
   ]
  },
  {
   "cell_type": "code",
   "execution_count": 12,
   "metadata": {},
   "outputs": [],
   "source": []
  },
  {
   "cell_type": "code",
   "execution_count": 43,
   "metadata": {},
   "outputs": [],
   "source": [
    "class NeuralNetwork:\n",
    "    def __init__(self,l1 , l2 ,input):\n",
    "        self.l1 = l1\n",
    "        self.l2 = l2\n",
    "        self.W1 = np.random.randn(input,l1) \n",
    "        self.b1 = np.zeros((1, l1))\n",
    "        self.W2 = np.random.randn(l1, l2) \n",
    "        self.b2 = np.zeros((1, l2))\n",
    "        self.W3 = np.random.randn(6,1) \n",
    "        self.b3 = np.zeros((1, 1))\n",
    "\n",
    "    def relu(self ,z):\n",
    "        return np.maximum(0, z)\n",
    "    \n",
    "\n",
    "    def Forward(self , X):\n",
    "        self.Z1 = X.dot(self.W1)+self.b1#apparently numpy has a self-broadcasting property ie here self.b1 automatically broadcasts to match the shape of the matrix before it\n",
    "        self.a1 = self.relu(self.Z1)\n",
    "        self.Z2 = self.a1.dot(self.W2)+self.b2#441X6\n",
    "        self.a2 = self.relu(self.Z2)\n",
    "        self.y = self.a2.dot(self.W3)+self.b3#linear function\n",
    "        return self.y\n",
    "\n",
    "    def msed(self,Y,y):\n",
    "        return y - Y\n",
    "\n",
    "    def reluD(self , z):\n",
    "        return z>0#1 or 0\n",
    "\n",
    "\n",
    "    def BackPropogation(self , y ,Y , X ):\n",
    "        m = X.shape[0]\n",
    "        # Calculate gradients\n",
    "        dZ3 = self.msed(Y, y)  # (m, 1)\n",
    "        dW3 = np.dot(self.A2.T, dZ3) / m   # (l2, m) . (m, 1) = (l2, 1)\n",
    "        db3 = np.sum(dZ3, axis=0) / m  # (1, 1)\n",
    "        \n",
    "        dA2 = np.dot(dZ3, self.W3.T)  # (m, 1) . (1, l2) = (m, l2)\n",
    "        dZ2 = dA2 * self.reluD(self.Z2)  # (m, l2)\n",
    "        dW2 = np.dot(self.A1.T, dZ2) / m  # (l1, m) . (m, l2) => (l1, l2)\n",
    "        db2 = np.sum(dZ2, axis=0) / m  # (1, l2)\n",
    "\n",
    "        dA1 = np.dot(dZ2, self.W2.T)  # (m, l2) . (l2, l1) = (m, l1)\n",
    "        dZ1 = dA1 * self.reluD(self.Z1)  # (m, l1)\n",
    "        dW1 = np.dot(X.T, dZ1) / m   \n",
    "        db1 = np.sum(dZ1, axis=0) / m  # (1, l1)\n",
    "\n",
    "        # Update weights and biases\n",
    "        self.W3 -= self.learning_rate * dW3\n",
    "        self.b3 -= self.learning_rate * db3\n",
    "        self.W2 -= self.learning_rate * dW2\n",
    "        self.b2 -= self.learning_rate * db2\n",
    "        self.W1 -= self.learning_rate * dW1\n",
    "        self.b1 -= self.learning_rate * db1\n",
    "\n",
    "\n",
    "    def train(X , Y , epochs , learning_rate,batch_size,validation_split):\n",
    "        self.learning_rate = learning_rate\n",
    "        #...SOMETIME IN THE FUTURE"
   ]
  },
  {
   "cell_type": "code",
   "execution_count": null,
   "metadata": {},
   "outputs": [],
   "source": [
    "   "
   ]
  },
  {
   "cell_type": "code",
   "execution_count": 45,
   "metadata": {},
   "outputs": [
    {
     "name": "stdout",
     "output_type": "stream",
     "text": [
      "(441, 5)\n"
     ]
    }
   ],
   "source": [
    "X = np.array(bbox)#(441, 5)\n",
    "df = pd.DataFrame(X , columns= ['class' , 'x ', 'y','w','h', 'confidence'])\n",
    "df['ratio']  = df['h']/df['w']\n",
    "df = df[['y' , 'w' , 'h' , 'confidence' ,  'ratio']]#including class here becasue of the mention in ADR(THINK LATER) -will check during feature engineering\n",
    "X = np.asarray(df).astype('float32')\n",
    "Y = np.array(depth_values)#(441,)\n",
    "print(X.shape)\n",
    "#np.random.shuffle(for augmented matrix) in the epochs"
   ]
  },
  {
   "cell_type": "code",
   "execution_count": 44,
   "metadata": {},
   "outputs": [
    {
     "name": "stdout",
     "output_type": "stream",
     "text": [
      "(441, 1)\n"
     ]
    }
   ],
   "source": [
    "input = 5\n",
    "model = NeuralNetwork(8,6,input)#number of nodes in layer1 and layer2\n",
    "model.train(X,Y,epochs = 100,learning_rate = 0.01,batch_size = 32,validation_split = 0.4)\n"
   ]
  }
 ],
 "metadata": {
  "kernelspec": {
   "display_name": "Python 3",
   "language": "python",
   "name": "python3"
  },
  "language_info": {
   "codemirror_mode": {
    "name": "ipython",
    "version": 3
   },
   "file_extension": ".py",
   "mimetype": "text/x-python",
   "name": "python",
   "nbconvert_exporter": "python",
   "pygments_lexer": "ipython3",
   "version": "3.9.6"
  }
 },
 "nbformat": 4,
 "nbformat_minor": 2
}
